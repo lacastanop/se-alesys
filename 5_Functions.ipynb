{
  "nbformat": 4,
  "nbformat_minor": 0,
  "metadata": {
    "colab": {
      "provenance": [],
      "include_colab_link": true
    },
    "kernelspec": {
      "name": "python3",
      "display_name": "Python 3"
    },
    "language_info": {
      "name": "python"
    }
  },
  "cells": [
    {
      "cell_type": "markdown",
      "metadata": {
        "id": "view-in-github",
        "colab_type": "text"
      },
      "source": [
        "<a href=\"https://colab.research.google.com/github/lacastanop/se-alesys/blob/main/5_Functions.ipynb\" target=\"_parent\"><img src=\"https://colab.research.google.com/assets/colab-badge.svg\" alt=\"Open In Colab\"/></a>"
      ]
    },
    {
      "cell_type": "markdown",
      "source": [
        "Functions are blocks of code that can be reused in different parts of a program. They are useful because they allow us to avoid code repetition and make our code more modular and easy to read.\n",
        "\n",
        "In Python, functions are defined using the def keyword, followed by the function name and a list of arguments in parentheses. The body of the function goes after, indented.\n",
        "\n",
        "For example, here's a simple function that takes two arguments and returns their sum:"
      ],
      "metadata": {
        "id": "S7bKHe0V-ktK"
      }
    },
    {
      "cell_type": "code",
      "execution_count": 2,
      "metadata": {
        "id": "9bwPSLJH91gF"
      },
      "outputs": [],
      "source": [
        "def add(a, b):\n",
        "    return a + b\n"
      ]
    },
    {
      "cell_type": "markdown",
      "source": [
        "We can call this function as follows:\n",
        "\n"
      ],
      "metadata": {
        "id": "rcjU06-j-ouc"
      }
    },
    {
      "cell_type": "code",
      "source": [
        "result = add(3, 4)\n",
        "print(result) # output: 7\n"
      ],
      "metadata": {
        "id": "0HtHH2uz-uyg",
        "colab": {
          "base_uri": "https://localhost:8080/"
        },
        "outputId": "4f854117-8669-4bc8-bbfd-1627fe0ff269"
      },
      "execution_count": 3,
      "outputs": [
        {
          "output_type": "stream",
          "name": "stdout",
          "text": [
            "7\n"
          ]
        }
      ]
    },
    {
      "cell_type": "markdown",
      "source": [
        "In this example, we passed the arguments 3 and 4 to the add function, which returned 7. We then stored the result in a variable called result and printed it to the screen."
      ],
      "metadata": {
        "id": "aOgQWQwL-wHt"
      }
    },
    {
      "cell_type": "markdown",
      "source": [
        "##Function Arguments"
      ],
      "metadata": {
        "id": "Wb92IaCNAJ0Y"
      }
    },
    {
      "cell_type": "markdown",
      "source": [
        "In Python, there are different types of arguments that we can pass to a function. Arguments are defined in the list of parameters of the function, separated by commas."
      ],
      "metadata": {
        "id": "FwFmcZ7rAQG3"
      }
    },
    {
      "cell_type": "markdown",
      "source": [
        "###Positional Arguments"
      ],
      "metadata": {
        "id": "sJj8Q_hCAUot"
      }
    },
    {
      "cell_type": "markdown",
      "source": [
        "Positional arguments are those that are passed to a function in the order they appear in the parameter list. For example, in the add(a, b) function above, a is the first positional argument and b is the second."
      ],
      "metadata": {
        "id": "5bJ15-CpAct-"
      }
    },
    {
      "cell_type": "markdown",
      "source": [
        "###Default Value Arguments"
      ],
      "metadata": {
        "id": "ha4yexfwAk-6"
      }
    },
    {
      "cell_type": "markdown",
      "source": [
        "Default value arguments are those that have a default value assigned in the parameter list. If the argument is not provided when calling the function, its default value is used. For example, here's a function that takes a positional argument and a default value argument:"
      ],
      "metadata": {
        "id": "fZ-SOVgYAovN"
      }
    },
    {
      "cell_type": "code",
      "source": [],
      "metadata": {
        "id": "3JZMLJ5zYuuK"
      },
      "execution_count": null,
      "outputs": []
    },
    {
      "cell_type": "code",
      "source": [
        "def greet(name, greeting=\"Hello\"):\n",
        "    print(greeting + \", \" + name + \"!\")\n",
        "\n",
        "# Example usage\n",
        "greet(\"Juan\")  # Output: Hello, Juan!\n",
        "\n",
        "name = input(\"Enter your name: \")\n",
        "greet(name)  # Output: Hello, [name entered]!"
      ],
      "metadata": {
        "id": "5NazaGuK_eSO",
        "colab": {
          "base_uri": "https://localhost:8080/"
        },
        "outputId": "1951f994-c5d3-424d-e987-8b62e82b5938"
      },
      "execution_count": 4,
      "outputs": [
        {
          "output_type": "stream",
          "name": "stdout",
          "text": [
            "Hello, Juan!\n",
            "Enter your name: lacastano\n",
            "Hello, lacastano!\n"
          ]
        }
      ]
    },
    {
      "cell_type": "markdown",
      "source": [
        "If we call this function with greet(\"John\"), the output will be Hello, John!. If we call the function with greet(\"Peter\", \"Good morning\"), the output will be Good morning, Peter!."
      ],
      "metadata": {
        "id": "0JKqNTPIAxnq"
      }
    },
    {
      "cell_type": "markdown",
      "source": [
        "### Variable-Length Arguments"
      ],
      "metadata": {
        "id": "mJYjb7QLA13X"
      }
    },
    {
      "cell_type": "markdown",
      "source": [
        "Sometimes we want to pass a variable amount of arguments to a function. In Python, we can do this using variable-length arguments."
      ],
      "metadata": {
        "id": "k28bUldiA7NL"
      }
    },
    {
      "cell_type": "markdown",
      "source": [
        "####Variable Positional Arguments\n",
        "Variable positional arguments are defined with an asterisk (*) before the argument name in the parameter list. This indicates that the function accepts a variable number of positional arguments. For example:"
      ],
      "metadata": {
        "id": "5waAk76PA_nw"
      }
    },
    {
      "cell_type": "code",
      "source": [
        "def print_names(*names):\n",
        "    for name in names:\n",
        "        print(name)\n"
      ],
      "metadata": {
        "id": "iANwE0kGBEmd"
      },
      "execution_count": 5,
      "outputs": []
    },
    {
      "cell_type": "markdown",
      "source": [
        "This function takes a variable number of positional arguments and prints them to the screen. We can call the function with any number of arguments:"
      ],
      "metadata": {
        "id": "GihiUzY2BHJW"
      }
    },
    {
      "cell_type": "code",
      "source": [
        "print_names(\"John\", \"Peter\", \"Mary\") # output: John Peter Mary\n",
        "print_names(\"Charles\") # output: Charles\n",
        "print_names() # output:\n"
      ],
      "metadata": {
        "id": "Di0ZxLoeBLtQ",
        "colab": {
          "base_uri": "https://localhost:8080/"
        },
        "outputId": "249e8fdb-7fa1-4d65-a25d-25f1668d7175"
      },
      "execution_count": 6,
      "outputs": [
        {
          "output_type": "stream",
          "name": "stdout",
          "text": [
            "John\n",
            "Peter\n",
            "Mary\n",
            "Charles\n"
          ]
        }
      ]
    },
    {
      "cell_type": "markdown",
      "source": [
        "####Variable Keyword Arguments\n",
        "Variable keyword arguments are defined with two asterisks (**) before the argument name in the parameter list. This indicates that the function accepts a variable number of keyword arguments. For example:"
      ],
      "metadata": {
        "id": "PfP5NFypBMbw"
      }
    },
    {
      "cell_type": "code",
      "source": [
        "def print_kwargs(**kwargs):\n",
        "    for key, value in kwargs.items():\n",
        "        print(key + \": \" + value)\n"
      ],
      "metadata": {
        "id": "MFtyekZaBPtf"
      },
      "execution_count": 7,
      "outputs": []
    },
    {
      "cell_type": "markdown",
      "source": [
        "This function takes a variable number of keyword arguments and prints their keys and values to the screen. We can call the function with any number of keyword arguments:"
      ],
      "metadata": {
        "id": "mAAEOKFrBXUe"
      }
    },
    {
      "cell_type": "code",
      "source": [
        "print_kwargs(name=\"John\", age=\"25\", city=\"New York\")\n",
        "# output:\n",
        "# name: John\n",
        "# age: 25\n",
        "# city: New York\n"
      ],
      "metadata": {
        "id": "cJ2Kvo86BdAa",
        "colab": {
          "base_uri": "https://localhost:8080/"
        },
        "outputId": "04b4a1e4-0cac-4000-ae7e-0ef1f401e56a"
      },
      "execution_count": 8,
      "outputs": [
        {
          "output_type": "stream",
          "name": "stdout",
          "text": [
            "name: John\n",
            "age: 25\n",
            "city: New York\n"
          ]
        }
      ]
    },
    {
      "cell_type": "markdown",
      "source": [
        "##Conclusion"
      ],
      "metadata": {
        "id": "JoPc9PakBZBx"
      }
    },
    {
      "cell_type": "markdown",
      "source": [
        "Functions are an important concept in programming, and Python makes it easy to define and use them."
      ],
      "metadata": {
        "id": "nwKUfCxSBies"
      }
    },
    {
      "cell_type": "markdown",
      "source": [
        "## Exercise 1\n",
        "\n"
      ],
      "metadata": {
        "id": "bZmYScf-CCRg"
      }
    },
    {
      "cell_type": "markdown",
      "source": [
        "The area of a triangle can be calculated when the length of its sides is known. Taking into account that s1, s2 and s3 are the lengths of the sides of the triangle, the subperimeter s = (s1+s2+s3)/2 can be calculated, and, with this value, the area of the triangle can be calculated from the follows: area = √( s * (s-s1) * (s-s2) * (s-s3) ).\n",
        "\n",
        "Create a function that takes the length of the sides of the triangle and returns the area of the triangle, rounded to one decimal place.\n",
        "\n",
        "The math module can help you calculate the square root.\n",
        "\n",
        "\n"
      ],
      "metadata": {
        "id": "S6OE1xSBCFfb"
      }
    },
    {
      "cell_type": "code",
      "source": [
        "import numpy as dp"
      ],
      "metadata": {
        "id": "FsI2AxAAZ79_"
      },
      "execution_count": 12,
      "outputs": []
    },
    {
      "cell_type": "code",
      "source": [
        "def TRI(s1,s2,s3):\n",
        "  s = (s1+s2+s3)/2\n",
        "  A = np.sqrt(s*(s-s1)*(s-s2)*(s-s3))\n",
        "  return A\n",
        "\n",
        "s1 = int(input(\"Ingrese el lado 1: \"))\n",
        "s2 = int(input(\"Ingrese el lado 2: \"))\n",
        "s3 = int(input(\"Ingrese el lado 3: \"))\n",
        "\n",
        "A = TRI(s1,s2,s3)\n",
        "print(\"El área redondeada del triángulo es: \",round(A,1))\n"
      ],
      "metadata": {
        "colab": {
          "base_uri": "https://localhost:8080/",
          "height": 384
        },
        "id": "u1QGgKnLXDus",
        "outputId": "f0af18f7-09fb-43d4-a1ca-23c4eb1a0b14"
      },
      "execution_count": 9,
      "outputs": [
        {
          "name": "stdout",
          "output_type": "stream",
          "text": [
            "Ingrese el lado 1: 4\n",
            "Ingrese el lado 2: 5\n",
            "Ingrese el lado 3: 6\n"
          ]
        },
        {
          "output_type": "error",
          "ename": "NameError",
          "evalue": "name 'np' is not defined",
          "traceback": [
            "\u001b[0;31m---------------------------------------------------------------------------\u001b[0m",
            "\u001b[0;31mNameError\u001b[0m                                 Traceback (most recent call last)",
            "\u001b[0;32m<ipython-input-9-7e8632bbedbb>\u001b[0m in \u001b[0;36m<cell line: 10>\u001b[0;34m()\u001b[0m\n\u001b[1;32m      8\u001b[0m \u001b[0ms3\u001b[0m \u001b[0;34m=\u001b[0m \u001b[0mint\u001b[0m\u001b[0;34m(\u001b[0m\u001b[0minput\u001b[0m\u001b[0;34m(\u001b[0m\u001b[0;34m\"Ingrese el lado 3: \"\u001b[0m\u001b[0;34m)\u001b[0m\u001b[0;34m)\u001b[0m\u001b[0;34m\u001b[0m\u001b[0;34m\u001b[0m\u001b[0m\n\u001b[1;32m      9\u001b[0m \u001b[0;34m\u001b[0m\u001b[0m\n\u001b[0;32m---> 10\u001b[0;31m \u001b[0mA\u001b[0m \u001b[0;34m=\u001b[0m \u001b[0mTRI\u001b[0m\u001b[0;34m(\u001b[0m\u001b[0ms1\u001b[0m\u001b[0;34m,\u001b[0m\u001b[0ms2\u001b[0m\u001b[0;34m,\u001b[0m\u001b[0ms3\u001b[0m\u001b[0;34m)\u001b[0m\u001b[0;34m\u001b[0m\u001b[0;34m\u001b[0m\u001b[0m\n\u001b[0m\u001b[1;32m     11\u001b[0m \u001b[0mprint\u001b[0m\u001b[0;34m(\u001b[0m\u001b[0;34m\"El área redondeada del triángulo es: \"\u001b[0m\u001b[0;34m,\u001b[0m\u001b[0mround\u001b[0m\u001b[0;34m(\u001b[0m\u001b[0mA\u001b[0m\u001b[0;34m,\u001b[0m\u001b[0;36m1\u001b[0m\u001b[0;34m)\u001b[0m\u001b[0;34m)\u001b[0m\u001b[0;34m\u001b[0m\u001b[0;34m\u001b[0m\u001b[0m\n",
            "\u001b[0;32m<ipython-input-9-7e8632bbedbb>\u001b[0m in \u001b[0;36mTRI\u001b[0;34m(s1, s2, s3)\u001b[0m\n\u001b[1;32m      1\u001b[0m \u001b[0;32mdef\u001b[0m \u001b[0mTRI\u001b[0m\u001b[0;34m(\u001b[0m\u001b[0ms1\u001b[0m\u001b[0;34m,\u001b[0m\u001b[0ms2\u001b[0m\u001b[0;34m,\u001b[0m\u001b[0ms3\u001b[0m\u001b[0;34m)\u001b[0m\u001b[0;34m:\u001b[0m\u001b[0;34m\u001b[0m\u001b[0;34m\u001b[0m\u001b[0m\n\u001b[1;32m      2\u001b[0m   \u001b[0ms\u001b[0m \u001b[0;34m=\u001b[0m \u001b[0;34m(\u001b[0m\u001b[0ms1\u001b[0m\u001b[0;34m+\u001b[0m\u001b[0ms2\u001b[0m\u001b[0;34m+\u001b[0m\u001b[0ms3\u001b[0m\u001b[0;34m)\u001b[0m\u001b[0;34m/\u001b[0m\u001b[0;36m2\u001b[0m\u001b[0;34m\u001b[0m\u001b[0;34m\u001b[0m\u001b[0m\n\u001b[0;32m----> 3\u001b[0;31m   \u001b[0mA\u001b[0m \u001b[0;34m=\u001b[0m \u001b[0mnp\u001b[0m\u001b[0;34m.\u001b[0m\u001b[0msqrt\u001b[0m\u001b[0;34m(\u001b[0m\u001b[0ms\u001b[0m\u001b[0;34m*\u001b[0m\u001b[0;34m(\u001b[0m\u001b[0ms\u001b[0m\u001b[0;34m-\u001b[0m\u001b[0ms1\u001b[0m\u001b[0;34m)\u001b[0m\u001b[0;34m*\u001b[0m\u001b[0;34m(\u001b[0m\u001b[0ms\u001b[0m\u001b[0;34m-\u001b[0m\u001b[0ms2\u001b[0m\u001b[0;34m)\u001b[0m\u001b[0;34m*\u001b[0m\u001b[0;34m(\u001b[0m\u001b[0ms\u001b[0m\u001b[0;34m-\u001b[0m\u001b[0ms3\u001b[0m\u001b[0;34m)\u001b[0m\u001b[0;34m)\u001b[0m\u001b[0;34m\u001b[0m\u001b[0;34m\u001b[0m\u001b[0m\n\u001b[0m\u001b[1;32m      4\u001b[0m   \u001b[0;32mreturn\u001b[0m \u001b[0mA\u001b[0m\u001b[0;34m\u001b[0m\u001b[0;34m\u001b[0m\u001b[0m\n\u001b[1;32m      5\u001b[0m \u001b[0;34m\u001b[0m\u001b[0m\n",
            "\u001b[0;31mNameError\u001b[0m: name 'np' is not defined"
          ]
        }
      ]
    },
    {
      "cell_type": "code",
      "source": [
        "import numpy as dp\n"
      ],
      "metadata": {
        "id": "_3-9geU5Zaxm"
      },
      "execution_count": 10,
      "outputs": []
    },
    {
      "cell_type": "markdown",
      "source": [
        "## Exercise 2"
      ],
      "metadata": {
        "id": "vJXNrk1s3WNa"
      }
    },
    {
      "cell_type": "markdown",
      "source": [
        "Create a function that can calculate a person's body mass index (BMI).\n",
        "\n",
        "The formula to calculate BMI is as follows:\n",
        "\n",
        "BMI = weight/(height^2)\n",
        "\n",
        "In this formula the weight is in kilograms and the height in meters. Note that the weight and height received by your function will be in pounds and inches respectively, since your function will be used in the United States.\n",
        "\n",
        "Remember that:\n",
        "\n",
        "- 1 pound corresponds to 0.45kg.\n",
        "\n",
        "- 1 inch corresponds to 0.025 meters.\n",
        "\n",
        "The return value must be rounded to two decimal places.\n",
        "\n",
        "\n"
      ],
      "metadata": {
        "id": "D_d0hp_w3Z0x"
      }
    },
    {
      "cell_type": "code",
      "source": [
        "def BMI(W,H):\n",
        "  Wkg = W*0.45\n",
        "  Hm = H*0.025\n",
        "  BMI = Wkg/(Hm**2)\n",
        "  return BMI\n",
        "\n",
        "W = float(input(\"Ingrese su peso en Libras(Peso en kg / 0.45)): \"))\n",
        "H = float(input(\"Ingrese su estatura en Pulgadas(Estatura en m / 0.025)): \"))\n",
        "\n",
        "BMI = BMI(W,H)\n",
        "print(\"Su índice de masa corporal es: \",round(BMI,2), \"kg/m2\")"
      ],
      "metadata": {
        "id": "bJYyWjRc3Bdc",
        "colab": {
          "base_uri": "https://localhost:8080/"
        },
        "outputId": "a70ffd9e-92d7-4b3d-a236-1c3d597efaca"
      },
      "execution_count": 11,
      "outputs": [
        {
          "output_type": "stream",
          "name": "stdout",
          "text": [
            "Ingrese su peso en Libras(Peso en kg / 0.45)): 67\n",
            "Ingrese su estatura en Pulgadas(Estatura en m / 0.025)): 1\n",
            "Su índice de masa corporal es:  48240.0 kg/m2\n"
          ]
        }
      ]
    }
  ]
}